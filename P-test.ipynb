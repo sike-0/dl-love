{
  "cells": [
    {
      "cell_type": "markdown",
      "metadata": {
        "id": "pEnY2F89UJbS"
      },
      "source": [
        "Aim: Use appropriate dataset to realize multiple linear regression and show that how various statistical tools like p-value, t-score, etc can be used for dimensionality reduction."
      ]
    },
    {
      "cell_type": "code",
      "source": [
        "!curl https://ocw.mit.edu/courses/15-097-prediction-machine-learning-and-statistics-spring-2012/bb222ea44cb14f4d9f8729328cd08a21_wine.csv --output wine.csv"
      ],
      "metadata": {
        "colab": {
          "base_uri": "https://localhost:8080/"
        },
        "id": "KEoNwVHOUdFD",
        "outputId": "c22d15da-66fd-49b9-fbb2-86c939f0d28d"
      },
      "execution_count": 14,
      "outputs": [
        {
          "output_type": "stream",
          "name": "stdout",
          "text": [
            "  % Total    % Received % Xferd  Average Speed   Time    Time     Time  Current\n",
            "                                 Dload  Upload   Total   Spent    Left  Speed\n",
            "\r  0     0    0     0    0     0      0      0 --:--:-- --:--:-- --:--:--     0\r100 10960  100 10960    0     0  87936      0 --:--:-- --:--:-- --:--:-- 88387\n"
          ]
        }
      ]
    },
    {
      "cell_type": "code",
      "execution_count": 15,
      "metadata": {
        "colab": {
          "base_uri": "https://localhost:8080/"
        },
        "id": "6R4IcJybUJbT",
        "outputId": "6045154d-fe4b-4e8e-f422-0ae5a3bb7295"
      },
      "outputs": [
        {
          "output_type": "stream",
          "name": "stdout",
          "text": [
            "   0      1     2     3     4    5     6     7     8     9     10    11    12  \\\n",
            "0   1  14.23  1.71  2.43  15.6  127  2.80  3.06  0.28  2.29  5.64  1.04  3.92   \n",
            "1   1  13.20  1.78  2.14  11.2  100  2.65  2.76  0.26  1.28  4.38  1.05  3.40   \n",
            "2   1  13.16  2.36  2.67  18.6  101  2.80  3.24  0.30  2.81  5.68  1.03  3.17   \n",
            "3   1  14.37  1.95  2.50  16.8  113  3.85  3.49  0.24  2.18  7.80  0.86  3.45   \n",
            "4   1  13.24  2.59  2.87  21.0  118  2.80  2.69  0.39  1.82  4.32  1.04  2.93   \n",
            "\n",
            "     13  \n",
            "0  1065  \n",
            "1  1050  \n",
            "2  1185  \n",
            "3  1480  \n",
            "4   735  \n"
          ]
        }
      ],
      "source": [
        "import pandas as pd\n",
        "\n",
        "df = pd.read_csv(\"wine.csv\",header = None)\n",
        "\n",
        "print(df.head())"
      ]
    },
    {
      "cell_type": "code",
      "execution_count": 16,
      "metadata": {
        "colab": {
          "base_uri": "https://localhost:8080/"
        },
        "id": "VGYfLQ5VUJbU",
        "outputId": "e052ae59-9e0f-4a61-a9d6-8969b9ae9d97"
      },
      "outputs": [
        {
          "output_type": "stream",
          "name": "stdout",
          "text": [
            "(178, 12) (178,)\n"
          ]
        }
      ],
      "source": [
        "X = df.drop(columns = [0,1])\n",
        "y = df[1]\n",
        "print(X.shape,y.shape)"
      ]
    },
    {
      "cell_type": "code",
      "execution_count": 17,
      "metadata": {
        "colab": {
          "base_uri": "https://localhost:8080/"
        },
        "id": "G7emllgCUJbU",
        "outputId": "8c0a4644-c588-4a36-f866-9489c86277c2"
      },
      "outputs": [
        {
          "output_type": "stream",
          "name": "stdout",
          "text": [
            "                            OLS Regression Results                            \n",
            "==============================================================================\n",
            "Dep. Variable:                      1   R-squared:                       0.594\n",
            "Model:                            OLS   Adj. R-squared:                  0.564\n",
            "Method:                 Least Squares   F-statistic:                     20.08\n",
            "Date:                Sat, 14 Sep 2024   Prob (F-statistic):           1.61e-26\n",
            "Time:                        11:46:48   Log-Likelihood:                -134.83\n",
            "No. Observations:                 178   AIC:                             295.7\n",
            "Df Residuals:                     165   BIC:                             337.0\n",
            "Df Model:                          12                                         \n",
            "Covariance Type:            nonrobust                                         \n",
            "==============================================================================\n",
            "                 coef    std err          t      P>|t|      [0.025      0.975]\n",
            "------------------------------------------------------------------------------\n",
            "const         11.0718      0.596     18.567      0.000       9.894      12.249\n",
            "2              0.1316      0.045      2.907      0.004       0.042       0.221\n",
            "3              0.1379      0.217      0.636      0.526      -0.290       0.566\n",
            "4             -0.0378      0.018     -2.122      0.035      -0.073      -0.003\n",
            "5           4.179e-06      0.003      0.001      0.999      -0.007       0.007\n",
            "6              0.0521      0.134      0.389      0.698      -0.212       0.317\n",
            "7              0.0091      0.107      0.085      0.932      -0.202       0.220\n",
            "8             -0.2078      0.434     -0.479      0.632      -1.064       0.648\n",
            "9             -0.1525      0.098     -1.552      0.122      -0.346       0.041\n",
            "10             0.1630      0.027      5.941      0.000       0.109       0.217\n",
            "11             0.2169      0.281      0.772      0.441      -0.338       0.772\n",
            "12             0.1608      0.110      1.466      0.145      -0.056       0.377\n",
            "13             0.0010      0.000      5.081      0.000       0.001       0.001\n",
            "==============================================================================\n",
            "Omnibus:                        0.348   Durbin-Watson:                   1.998\n",
            "Prob(Omnibus):                  0.840   Jarque-Bera (JB):                0.121\n",
            "Skew:                           0.025   Prob(JB):                        0.941\n",
            "Kurtosis:                       3.118   Cond. No.                     1.27e+04\n",
            "==============================================================================\n",
            "\n",
            "Notes:\n",
            "[1] Standard Errors assume that the covariance matrix of the errors is correctly specified.\n",
            "[2] The condition number is large, 1.27e+04. This might indicate that there are\n",
            "strong multicollinearity or other numerical problems.\n"
          ]
        }
      ],
      "source": [
        "import statsmodels.api as sm\n",
        "X = sm.add_constant(X)\n",
        "model = sm.OLS(y, X).fit()\n",
        "print(model.summary())"
      ]
    },
    {
      "cell_type": "code",
      "execution_count": 18,
      "metadata": {
        "colab": {
          "base_uri": "https://localhost:8080/"
        },
        "id": "tWqTGlbqUJbV",
        "outputId": "2b102628-b509-4258-cbfd-a4fd6b1f3be2"
      },
      "outputs": [
        {
          "output_type": "stream",
          "name": "stdout",
          "text": [
            "                            OLS Regression Results                            \n",
            "==============================================================================\n",
            "Dep. Variable:                      1   R-squared:                       0.571\n",
            "Model:                            OLS   Adj. R-squared:                  0.561\n",
            "Method:                 Least Squares   F-statistic:                     57.60\n",
            "Date:                Sat, 14 Sep 2024   Prob (F-statistic):           7.91e-31\n",
            "Time:                        11:46:48   Log-Likelihood:                -139.61\n",
            "No. Observations:                 178   AIC:                             289.2\n",
            "Df Residuals:                     173   BIC:                             305.1\n",
            "Df Model:                           4                                         \n",
            "Covariance Type:            nonrobust                                         \n",
            "==============================================================================\n",
            "                 coef    std err          t      P>|t|      [0.025      0.975]\n",
            "------------------------------------------------------------------------------\n",
            "const         11.8296      0.329     35.985      0.000      11.181      12.478\n",
            "2              0.1024      0.040      2.576      0.011       0.024       0.181\n",
            "4             -0.0337      0.014     -2.415      0.017      -0.061      -0.006\n",
            "10             0.1249      0.020      6.366      0.000       0.086       0.164\n",
            "13             0.0013      0.000      8.209      0.000       0.001       0.002\n",
            "==============================================================================\n",
            "Omnibus:                        0.661   Durbin-Watson:                   1.904\n",
            "Prob(Omnibus):                  0.718   Jarque-Bera (JB):                0.447\n",
            "Skew:                           0.115   Prob(JB):                        0.800\n",
            "Kurtosis:                       3.087   Cond. No.                     6.61e+03\n",
            "==============================================================================\n",
            "\n",
            "Notes:\n",
            "[1] Standard Errors assume that the covariance matrix of the errors is correctly specified.\n",
            "[2] The condition number is large, 6.61e+03. This might indicate that there are\n",
            "strong multicollinearity or other numerical problems.\n"
          ]
        }
      ],
      "source": [
        "significant_features = model.pvalues[model.pvalues <= 0.05].index\n",
        "\n",
        "X_reduced = X[significant_features]\n",
        "\n",
        "reduced_model = sm.OLS(y, X_reduced).fit()\n",
        "\n",
        "print(reduced_model.summary())"
      ]
    }
  ],
  "metadata": {
    "kernelspec": {
      "display_name": ".env",
      "language": "python",
      "name": "python3"
    },
    "language_info": {
      "codemirror_mode": {
        "name": "ipython",
        "version": 3
      },
      "file_extension": ".py",
      "mimetype": "text/x-python",
      "name": "python",
      "nbconvert_exporter": "python",
      "pygments_lexer": "ipython3",
      "version": "3.12.5"
    },
    "colab": {
      "provenance": []
    }
  },
  "nbformat": 4,
  "nbformat_minor": 0
}