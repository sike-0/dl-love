{
  "cells": [
    {
      "cell_type": "markdown",
      "metadata": {
        "id": "EDxFx8seaA6N"
      },
      "source": [
        "Aim: Develop a CNN model to classify images using and without using dataset."
      ]
    },
    {
      "cell_type": "code",
      "execution_count": 1,
      "metadata": {
        "id": "llbM-dI-aA6O"
      },
      "outputs": [],
      "source": [
        "import torch\n",
        "from torch import nn\n",
        "import torch.nn.functional as F\n",
        "import matplotlib.pyplot as plt\n",
        "import pandas as pd\n",
        "from sklearn.model_selection import train_test_split"
      ]
    },
    {
      "cell_type": "code",
      "execution_count": 2,
      "metadata": {
        "id": "GZxIWjLWaA6P"
      },
      "outputs": [],
      "source": [
        "train = pd.read_csv('mnist_train_small.csv', header=None)"
      ]
    },
    {
      "cell_type": "code",
      "execution_count": 3,
      "metadata": {
        "colab": {
          "base_uri": "https://localhost:8080/"
        },
        "id": "t_Y62pP0aA6P",
        "outputId": "5799d3ae-135a-49b7-b9c3-79ee6706fea7"
      },
      "outputs": [
        {
          "data": {
            "text/plain": [
              "(20000, 785)"
            ]
          },
          "execution_count": 3,
          "metadata": {},
          "output_type": "execute_result"
        }
      ],
      "source": [
        "train.shape"
      ]
    },
    {
      "cell_type": "code",
      "execution_count": 4,
      "metadata": {
        "id": "D0egr3noaA6Q"
      },
      "outputs": [],
      "source": [
        "epochs = 500\n",
        "batch_size = 1000"
      ]
    },
    {
      "cell_type": "code",
      "execution_count": 5,
      "metadata": {
        "colab": {
          "base_uri": "https://localhost:8080/"
        },
        "id": "AJ3fOq6AaA6Q",
        "outputId": "9bc60564-2841-46f9-ce83-7fd1def486e2"
      },
      "outputs": [
        {
          "name": "stdout",
          "output_type": "stream",
          "text": [
            "Using cuda device\n"
          ]
        }
      ],
      "source": [
        "device = (\n",
        "    \"cuda\"\n",
        "    if torch.cuda.is_available()\n",
        "    else \"mps\"\n",
        "    if torch.backends.mps.is_available()\n",
        "    else \"cpu\"\n",
        ")\n",
        "print(f\"Using {device} device\")"
      ]
    },
    {
      "cell_type": "code",
      "execution_count": 6,
      "metadata": {
        "id": "K5noNNN3aA6Q"
      },
      "outputs": [],
      "source": [
        "X_train, y_train = train.values[:, 1:], train.values[:, 0]\n",
        "y_train = F.one_hot(torch.tensor(y_train)).to(dtype=torch.float32, device=device)\n",
        "X_train = torch.tensor(X_train, dtype=torch.float32, device=device) / 255"
      ]
    },
    {
      "cell_type": "code",
      "execution_count": 7,
      "metadata": {
        "colab": {
          "base_uri": "https://localhost:8080/"
        },
        "id": "gp-hfNCXaA6Q",
        "outputId": "73cea7b1-4a0d-42a2-d0d8-0680875574bd"
      },
      "outputs": [
        {
          "data": {
            "text/plain": [
              "(torch.Size([20000, 784]), torch.Size([20000, 10]))"
            ]
          },
          "execution_count": 7,
          "metadata": {},
          "output_type": "execute_result"
        }
      ],
      "source": [
        "X_train.shape, y_train.shape"
      ]
    },
    {
      "cell_type": "code",
      "execution_count": 8,
      "metadata": {
        "id": "4WyoMxMcaA6R"
      },
      "outputs": [],
      "source": [
        "class ANN(nn.Module):\n",
        "    def __init__(self):\n",
        "        super().__init__()\n",
        "        self.relu = nn.ReLU()\n",
        "        self.softmax = nn.Softmax(dim=-1)\n",
        "        self.dropout = nn.Dropout(p=0.2)\n",
        "        self.l1 = nn.Linear(28 * 28, 512)\n",
        "        self.l2 = nn.Linear(512, 256)\n",
        "        self.l3 = nn.Linear(256, 128)\n",
        "        self.l4 = nn.Linear(128, 64)\n",
        "        self.l5 = nn.Linear(64, 32)\n",
        "        self.l6 = nn.Linear(32, 10)\n",
        "    def forward(self, x):\n",
        "        out = self.relu(self.l1(x))\n",
        "        out = self.dropout(out)\n",
        "\n",
        "        out = self.relu(self.l2(out))\n",
        "        out = self.dropout(out)\n",
        "\n",
        "        out = self.relu(self.l3(out))\n",
        "        out = self.dropout(out)\n",
        "\n",
        "        out = self.relu(self.l4(out))\n",
        "        out = self.dropout(out)\n",
        "\n",
        "        out = self.relu(self.l5(out))\n",
        "        out = self.dropout(out)\n",
        "\n",
        "        out = self.softmax(self.l6(out))\n",
        "        return out"
      ]
    },
    {
      "cell_type": "code",
      "execution_count": 9,
      "metadata": {
        "colab": {
          "base_uri": "https://localhost:8080/"
        },
        "id": "gh1OiuMkaA6R",
        "outputId": "bcdb05f6-d101-4e2b-9695-e6c31d425301"
      },
      "outputs": [
        {
          "name": "stdout",
          "output_type": "stream",
          "text": [
            "ANN(\n",
            "  (relu): ReLU()\n",
            "  (softmax): Softmax(dim=-1)\n",
            "  (dropout): Dropout(p=0.2, inplace=False)\n",
            "  (l1): Linear(in_features=784, out_features=512, bias=True)\n",
            "  (l2): Linear(in_features=512, out_features=256, bias=True)\n",
            "  (l3): Linear(in_features=256, out_features=128, bias=True)\n",
            "  (l4): Linear(in_features=128, out_features=64, bias=True)\n",
            "  (l5): Linear(in_features=64, out_features=32, bias=True)\n",
            "  (l6): Linear(in_features=32, out_features=10, bias=True)\n",
            ")\n"
          ]
        }
      ],
      "source": [
        "model = ANN().to(device)\n",
        "print(model)"
      ]
    },
    {
      "cell_type": "code",
      "execution_count": 10,
      "metadata": {
        "id": "qJpszn9daA6R"
      },
      "outputs": [],
      "source": [
        "# Using cross entropy loss\n",
        "criteria = nn.CrossEntropyLoss()\n",
        "optimizer = torch.optim.Adam(model.parameters(), lr = 0.0001)"
      ]
    },
    {
      "cell_type": "code",
      "execution_count": 11,
      "metadata": {
        "colab": {
          "base_uri": "https://localhost:8080/"
        },
        "collapsed": true,
        "id": "X6qgYocaaA6R",
        "outputId": "91ad53aa-c8eb-49f1-e2d2-1ed358a9b438"
      },
      "outputs": [
        {
          "name": "stdout",
          "output_type": "stream",
          "text": [
            "Epoch: 1/500, Training Loss: 2.3018, Validation Loss: 2.3014\n",
            "Epoch: 2/500, Training Loss: 2.2997, Validation Loss: 2.2993\n",
            "Epoch: 3/500, Training Loss: 2.2922, Validation Loss: 2.2918\n",
            "Epoch: 4/500, Training Loss: 2.2586, Validation Loss: 2.2530\n",
            "Epoch: 5/500, Training Loss: 2.1918, Validation Loss: 2.1948\n",
            "Epoch: 6/500, Training Loss: 2.1390, Validation Loss: 2.1520\n",
            "Epoch: 7/500, Training Loss: 2.0956, Validation Loss: 2.0985\n",
            "Epoch: 8/500, Training Loss: 2.0409, Validation Loss: 2.0477\n",
            "Epoch: 9/500, Training Loss: 1.9972, Validation Loss: 2.0016\n",
            "Epoch: 10/500, Training Loss: 1.9637, Validation Loss: 1.9684\n",
            "Epoch: 11/500, Training Loss: 1.9182, Validation Loss: 1.9211\n",
            "Epoch: 12/500, Training Loss: 1.8784, Validation Loss: 1.8741\n",
            "Epoch: 13/500, Training Loss: 1.8419, Validation Loss: 1.8452\n",
            "Epoch: 14/500, Training Loss: 1.8078, Validation Loss: 1.8219\n",
            "Epoch: 15/500, Training Loss: 1.8019, Validation Loss: 1.8083\n",
            "Epoch: 16/500, Training Loss: 1.7815, Validation Loss: 1.7902\n",
            "Epoch: 17/500, Training Loss: 1.7621, Validation Loss: 1.7765\n",
            "Epoch: 18/500, Training Loss: 1.7628, Validation Loss: 1.7686\n",
            "Epoch: 19/500, Training Loss: 1.7507, Validation Loss: 1.7725\n",
            "Epoch: 20/500, Training Loss: 1.7484, Validation Loss: 1.7546\n",
            "Epoch: 21/500, Training Loss: 1.7416, Validation Loss: 1.7459\n",
            "Epoch: 22/500, Training Loss: 1.7288, Validation Loss: 1.7478\n",
            "Epoch: 23/500, Training Loss: 1.7324, Validation Loss: 1.7405\n",
            "Epoch: 24/500, Training Loss: 1.7249, Validation Loss: 1.7373\n",
            "Epoch: 25/500, Training Loss: 1.7291, Validation Loss: 1.7306\n",
            "Epoch: 26/500, Training Loss: 1.7250, Validation Loss: 1.7328\n",
            "Epoch: 27/500, Training Loss: 1.7183, Validation Loss: 1.7283\n",
            "Epoch: 28/500, Training Loss: 1.7186, Validation Loss: 1.7255\n",
            "Epoch: 29/500, Training Loss: 1.7130, Validation Loss: 1.7242\n",
            "Epoch: 30/500, Training Loss: 1.7092, Validation Loss: 1.7231\n",
            "Epoch: 31/500, Training Loss: 1.7078, Validation Loss: 1.7158\n",
            "Epoch: 32/500, Training Loss: 1.7113, Validation Loss: 1.7135\n",
            "Epoch: 33/500, Training Loss: 1.7034, Validation Loss: 1.7185\n",
            "Epoch: 34/500, Training Loss: 1.7019, Validation Loss: 1.7127\n",
            "Epoch: 35/500, Training Loss: 1.6974, Validation Loss: 1.7125\n",
            "Epoch: 36/500, Training Loss: 1.6977, Validation Loss: 1.7156\n",
            "Epoch: 37/500, Training Loss: 1.7073, Validation Loss: 1.7095\n",
            "Epoch: 38/500, Training Loss: 1.6987, Validation Loss: 1.7065\n",
            "Epoch: 39/500, Training Loss: 1.6958, Validation Loss: 1.7070\n",
            "Epoch: 40/500, Training Loss: 1.7003, Validation Loss: 1.7088\n",
            "Epoch: 41/500, Training Loss: 1.6985, Validation Loss: 1.7055\n",
            "Epoch: 42/500, Training Loss: 1.6964, Validation Loss: 1.7050\n",
            "Epoch: 43/500, Training Loss: 1.6895, Validation Loss: 1.7018\n",
            "Epoch: 44/500, Training Loss: 1.6896, Validation Loss: 1.6965\n",
            "Epoch: 45/500, Training Loss: 1.6974, Validation Loss: 1.6983\n",
            "Epoch: 46/500, Training Loss: 1.6775, Validation Loss: 1.6996\n",
            "Epoch: 47/500, Training Loss: 1.6831, Validation Loss: 1.6919\n",
            "Epoch: 48/500, Training Loss: 1.6689, Validation Loss: 1.6867\n",
            "Epoch: 49/500, Training Loss: 1.6743, Validation Loss: 1.6856\n",
            "Epoch: 50/500, Training Loss: 1.6571, Validation Loss: 1.6808\n",
            "Epoch: 51/500, Training Loss: 1.6642, Validation Loss: 1.6801\n",
            "Epoch: 52/500, Training Loss: 1.6617, Validation Loss: 1.6800\n",
            "Epoch: 53/500, Training Loss: 1.6560, Validation Loss: 1.6711\n",
            "Epoch: 54/500, Training Loss: 1.6510, Validation Loss: 1.6675\n",
            "Epoch: 55/500, Training Loss: 1.6463, Validation Loss: 1.6683\n",
            "Epoch: 56/500, Training Loss: 1.6482, Validation Loss: 1.6625\n",
            "Epoch: 57/500, Training Loss: 1.6508, Validation Loss: 1.6554\n",
            "Epoch: 58/500, Training Loss: 1.6459, Validation Loss: 1.6547\n",
            "Epoch: 59/500, Training Loss: 1.6478, Validation Loss: 1.6594\n",
            "Epoch: 60/500, Training Loss: 1.6369, Validation Loss: 1.6539\n",
            "Epoch: 61/500, Training Loss: 1.6436, Validation Loss: 1.6478\n",
            "Epoch: 62/500, Training Loss: 1.6340, Validation Loss: 1.6525\n",
            "Epoch: 63/500, Training Loss: 1.6324, Validation Loss: 1.6496\n",
            "Epoch: 64/500, Training Loss: 1.6317, Validation Loss: 1.6480\n",
            "Epoch: 65/500, Training Loss: 1.6405, Validation Loss: 1.6456\n",
            "Epoch: 66/500, Training Loss: 1.6377, Validation Loss: 1.6392\n",
            "Epoch: 67/500, Training Loss: 1.6334, Validation Loss: 1.6433\n",
            "Epoch: 68/500, Training Loss: 1.6260, Validation Loss: 1.6467\n",
            "Epoch: 69/500, Training Loss: 1.6231, Validation Loss: 1.6449\n",
            "Epoch: 70/500, Training Loss: 1.6276, Validation Loss: 1.6374\n",
            "Epoch: 71/500, Training Loss: 1.6237, Validation Loss: 1.6333\n",
            "Epoch: 72/500, Training Loss: 1.6240, Validation Loss: 1.6383\n",
            "Epoch: 73/500, Training Loss: 1.6203, Validation Loss: 1.6352\n",
            "Epoch: 74/500, Training Loss: 1.6209, Validation Loss: 1.6389\n",
            "Epoch: 75/500, Training Loss: 1.6255, Validation Loss: 1.6307\n",
            "Epoch: 76/500, Training Loss: 1.6197, Validation Loss: 1.6355\n",
            "Epoch: 77/500, Training Loss: 1.6122, Validation Loss: 1.6301\n",
            "Epoch: 78/500, Training Loss: 1.6083, Validation Loss: 1.6242\n",
            "Epoch: 79/500, Training Loss: 1.5906, Validation Loss: 1.6185\n",
            "Epoch: 80/500, Training Loss: 1.5943, Validation Loss: 1.6111\n",
            "Epoch: 81/500, Training Loss: 1.5761, Validation Loss: 1.6072\n",
            "Epoch: 82/500, Training Loss: 1.5686, Validation Loss: 1.5956\n",
            "Epoch: 83/500, Training Loss: 1.5743, Validation Loss: 1.6007\n",
            "Epoch: 84/500, Training Loss: 1.5614, Validation Loss: 1.5870\n",
            "Epoch: 85/500, Training Loss: 1.5614, Validation Loss: 1.5846\n",
            "Epoch: 86/500, Training Loss: 1.5429, Validation Loss: 1.5762\n",
            "Epoch: 87/500, Training Loss: 1.5505, Validation Loss: 1.5846\n",
            "Epoch: 88/500, Training Loss: 1.5384, Validation Loss: 1.5739\n",
            "Epoch: 89/500, Training Loss: 1.5436, Validation Loss: 1.5741\n",
            "Epoch: 90/500, Training Loss: 1.5360, Validation Loss: 1.5691\n",
            "Epoch: 91/500, Training Loss: 1.5390, Validation Loss: 1.5682\n",
            "Epoch: 92/500, Training Loss: 1.5361, Validation Loss: 1.5645\n",
            "Epoch: 93/500, Training Loss: 1.5358, Validation Loss: 1.5643\n",
            "Epoch: 94/500, Training Loss: 1.5356, Validation Loss: 1.5625\n",
            "Epoch: 95/500, Training Loss: 1.5241, Validation Loss: 1.5615\n",
            "Epoch: 96/500, Training Loss: 1.5301, Validation Loss: 1.5559\n",
            "Epoch: 97/500, Training Loss: 1.5268, Validation Loss: 1.5571\n",
            "Epoch: 98/500, Training Loss: 1.5310, Validation Loss: 1.5546\n",
            "Epoch: 99/500, Training Loss: 1.5280, Validation Loss: 1.5561\n",
            "Epoch: 100/500, Training Loss: 1.5265, Validation Loss: 1.5587\n",
            "Epoch: 101/500, Training Loss: 1.5271, Validation Loss: 1.5541\n",
            "Epoch: 102/500, Training Loss: 1.5194, Validation Loss: 1.5492\n",
            "Epoch: 103/500, Training Loss: 1.5219, Validation Loss: 1.5510\n",
            "Epoch: 104/500, Training Loss: 1.5192, Validation Loss: 1.5525\n",
            "Epoch: 105/500, Training Loss: 1.5183, Validation Loss: 1.5518\n",
            "Epoch: 106/500, Training Loss: 1.5175, Validation Loss: 1.5501\n",
            "Epoch: 107/500, Training Loss: 1.5147, Validation Loss: 1.5459\n",
            "Epoch: 108/500, Training Loss: 1.5158, Validation Loss: 1.5515\n",
            "Epoch: 109/500, Training Loss: 1.5093, Validation Loss: 1.5466\n",
            "Epoch: 110/500, Training Loss: 1.5081, Validation Loss: 1.5494\n",
            "Epoch: 111/500, Training Loss: 1.5132, Validation Loss: 1.5515\n",
            "Epoch: 112/500, Training Loss: 1.5066, Validation Loss: 1.5470\n",
            "Epoch: 113/500, Training Loss: 1.5075, Validation Loss: 1.5448\n",
            "Epoch: 114/500, Training Loss: 1.5067, Validation Loss: 1.5427\n",
            "Epoch: 115/500, Training Loss: 1.5045, Validation Loss: 1.5411\n",
            "Epoch: 116/500, Training Loss: 1.5024, Validation Loss: 1.5483\n",
            "Epoch: 117/500, Training Loss: 1.5012, Validation Loss: 1.5437\n",
            "Epoch: 118/500, Training Loss: 1.5041, Validation Loss: 1.5431\n",
            "Epoch: 119/500, Training Loss: 1.5012, Validation Loss: 1.5430\n",
            "Epoch: 120/500, Training Loss: 1.5052, Validation Loss: 1.5406\n",
            "Epoch: 121/500, Training Loss: 1.4981, Validation Loss: 1.5417\n",
            "Epoch: 122/500, Training Loss: 1.5031, Validation Loss: 1.5396\n",
            "Epoch: 123/500, Training Loss: 1.5042, Validation Loss: 1.5393\n",
            "Epoch: 124/500, Training Loss: 1.4937, Validation Loss: 1.5416\n",
            "Epoch: 125/500, Training Loss: 1.5023, Validation Loss: 1.5439\n",
            "Epoch: 126/500, Training Loss: 1.4982, Validation Loss: 1.5404\n",
            "Epoch: 127/500, Training Loss: 1.5008, Validation Loss: 1.5361\n",
            "Epoch: 128/500, Training Loss: 1.5032, Validation Loss: 1.5400\n",
            "Epoch: 129/500, Training Loss: 1.4976, Validation Loss: 1.5388\n",
            "Epoch: 130/500, Training Loss: 1.4957, Validation Loss: 1.5351\n",
            "Epoch: 131/500, Training Loss: 1.4963, Validation Loss: 1.5378\n",
            "Epoch: 132/500, Training Loss: 1.4950, Validation Loss: 1.5396\n",
            "Epoch: 133/500, Training Loss: 1.4969, Validation Loss: 1.5383\n",
            "Epoch: 134/500, Training Loss: 1.4912, Validation Loss: 1.5352\n",
            "Epoch: 135/500, Training Loss: 1.4954, Validation Loss: 1.5336\n",
            "Epoch: 136/500, Training Loss: 1.4966, Validation Loss: 1.5360\n",
            "Epoch: 137/500, Training Loss: 1.4921, Validation Loss: 1.5411\n",
            "Epoch: 138/500, Training Loss: 1.4984, Validation Loss: 1.5373\n",
            "Epoch: 139/500, Training Loss: 1.4877, Validation Loss: 1.5344\n",
            "Epoch: 140/500, Training Loss: 1.4907, Validation Loss: 1.5318\n",
            "Epoch: 141/500, Training Loss: 1.4945, Validation Loss: 1.5359\n",
            "Epoch: 142/500, Training Loss: 1.4923, Validation Loss: 1.5335\n",
            "Epoch: 143/500, Training Loss: 1.4868, Validation Loss: 1.5318\n",
            "Epoch: 144/500, Training Loss: 1.4894, Validation Loss: 1.5359\n",
            "Epoch: 145/500, Training Loss: 1.4907, Validation Loss: 1.5281\n",
            "Epoch: 146/500, Training Loss: 1.4908, Validation Loss: 1.5322\n",
            "Epoch: 147/500, Training Loss: 1.4889, Validation Loss: 1.5322\n",
            "Epoch: 148/500, Training Loss: 1.4868, Validation Loss: 1.5308\n",
            "Epoch: 149/500, Training Loss: 1.4863, Validation Loss: 1.5359\n",
            "Epoch: 150/500, Training Loss: 1.4907, Validation Loss: 1.5315\n",
            "Epoch: 151/500, Training Loss: 1.4863, Validation Loss: 1.5292\n",
            "Epoch: 152/500, Training Loss: 1.4856, Validation Loss: 1.5327\n",
            "Epoch: 153/500, Training Loss: 1.4850, Validation Loss: 1.5337\n",
            "Epoch: 154/500, Training Loss: 1.4853, Validation Loss: 1.5294\n",
            "Epoch: 155/500, Training Loss: 1.4864, Validation Loss: 1.5292\n",
            "Epoch: 156/500, Training Loss: 1.4866, Validation Loss: 1.5339\n",
            "Epoch: 157/500, Training Loss: 1.4835, Validation Loss: 1.5324\n",
            "Epoch: 158/500, Training Loss: 1.4825, Validation Loss: 1.5348\n",
            "Epoch: 159/500, Training Loss: 1.4852, Validation Loss: 1.5313\n",
            "Epoch: 160/500, Training Loss: 1.4826, Validation Loss: 1.5301\n",
            "Epoch: 161/500, Training Loss: 1.4839, Validation Loss: 1.5277\n",
            "Epoch: 162/500, Training Loss: 1.4779, Validation Loss: 1.5291\n",
            "Epoch: 163/500, Training Loss: 1.4833, Validation Loss: 1.5289\n",
            "Epoch: 164/500, Training Loss: 1.4807, Validation Loss: 1.5287\n",
            "Epoch: 165/500, Training Loss: 1.4796, Validation Loss: 1.5297\n",
            "Epoch: 166/500, Training Loss: 1.4847, Validation Loss: 1.5323\n",
            "Epoch: 167/500, Training Loss: 1.4807, Validation Loss: 1.5308\n",
            "Epoch: 168/500, Training Loss: 1.4831, Validation Loss: 1.5268\n",
            "Epoch: 169/500, Training Loss: 1.4778, Validation Loss: 1.5281\n",
            "Epoch: 170/500, Training Loss: 1.4801, Validation Loss: 1.5253\n",
            "Epoch: 171/500, Training Loss: 1.4791, Validation Loss: 1.5251\n",
            "Epoch: 172/500, Training Loss: 1.4797, Validation Loss: 1.5290\n",
            "Epoch: 173/500, Training Loss: 1.4813, Validation Loss: 1.5290\n",
            "Epoch: 174/500, Training Loss: 1.4771, Validation Loss: 1.5274\n",
            "Epoch: 175/500, Training Loss: 1.4773, Validation Loss: 1.5298\n",
            "Epoch: 176/500, Training Loss: 1.4804, Validation Loss: 1.5284\n",
            "Epoch: 177/500, Training Loss: 1.4774, Validation Loss: 1.5255\n",
            "Epoch: 178/500, Training Loss: 1.4797, Validation Loss: 1.5288\n",
            "Epoch: 179/500, Training Loss: 1.4791, Validation Loss: 1.5235\n",
            "Epoch: 180/500, Training Loss: 1.4802, Validation Loss: 1.5241\n",
            "Epoch: 181/500, Training Loss: 1.4770, Validation Loss: 1.5238\n",
            "Epoch: 182/500, Training Loss: 1.4753, Validation Loss: 1.5265\n",
            "Epoch: 183/500, Training Loss: 1.4768, Validation Loss: 1.5218\n",
            "Epoch: 184/500, Training Loss: 1.4743, Validation Loss: 1.5257\n",
            "Epoch: 185/500, Training Loss: 1.4811, Validation Loss: 1.5267\n",
            "Epoch: 186/500, Training Loss: 1.4797, Validation Loss: 1.5239\n",
            "Epoch: 187/500, Training Loss: 1.4770, Validation Loss: 1.5258\n",
            "Epoch: 188/500, Training Loss: 1.4740, Validation Loss: 1.5232\n",
            "Epoch: 189/500, Training Loss: 1.4756, Validation Loss: 1.5245\n",
            "Epoch: 190/500, Training Loss: 1.4757, Validation Loss: 1.5243\n",
            "Epoch: 191/500, Training Loss: 1.4778, Validation Loss: 1.5241\n",
            "Epoch: 192/500, Training Loss: 1.4734, Validation Loss: 1.5232\n",
            "Epoch: 193/500, Training Loss: 1.4749, Validation Loss: 1.5214\n",
            "Epoch: 194/500, Training Loss: 1.4749, Validation Loss: 1.5263\n",
            "Epoch: 195/500, Training Loss: 1.4744, Validation Loss: 1.5208\n",
            "Epoch: 196/500, Training Loss: 1.4751, Validation Loss: 1.5222\n",
            "Epoch: 197/500, Training Loss: 1.4747, Validation Loss: 1.5204\n",
            "Epoch: 198/500, Training Loss: 1.4735, Validation Loss: 1.5236\n",
            "Epoch: 199/500, Training Loss: 1.4778, Validation Loss: 1.5232\n",
            "Epoch: 200/500, Training Loss: 1.4754, Validation Loss: 1.5212\n",
            "Epoch: 201/500, Training Loss: 1.4743, Validation Loss: 1.5216\n",
            "Epoch: 202/500, Training Loss: 1.4728, Validation Loss: 1.5217\n",
            "Epoch: 203/500, Training Loss: 1.4751, Validation Loss: 1.5239\n",
            "Epoch: 204/500, Training Loss: 1.4723, Validation Loss: 1.5199\n",
            "Epoch: 205/500, Training Loss: 1.4701, Validation Loss: 1.5249\n",
            "Epoch: 206/500, Training Loss: 1.4745, Validation Loss: 1.5247\n",
            "Epoch: 207/500, Training Loss: 1.4707, Validation Loss: 1.5184\n",
            "Epoch: 208/500, Training Loss: 1.4739, Validation Loss: 1.5218\n",
            "Epoch: 209/500, Training Loss: 1.4738, Validation Loss: 1.5208\n",
            "Epoch: 210/500, Training Loss: 1.4745, Validation Loss: 1.5147\n",
            "Epoch: 211/500, Training Loss: 1.4716, Validation Loss: 1.5202\n",
            "Epoch: 212/500, Training Loss: 1.4765, Validation Loss: 1.5220\n",
            "Epoch: 213/500, Training Loss: 1.4700, Validation Loss: 1.5238\n",
            "Epoch: 214/500, Training Loss: 1.4719, Validation Loss: 1.5230\n",
            "Epoch: 215/500, Training Loss: 1.4758, Validation Loss: 1.5233\n",
            "Epoch: 216/500, Training Loss: 1.4740, Validation Loss: 1.5205\n",
            "Epoch: 217/500, Training Loss: 1.4692, Validation Loss: 1.5194\n",
            "Epoch: 218/500, Training Loss: 1.4711, Validation Loss: 1.5214\n",
            "Epoch: 219/500, Training Loss: 1.4699, Validation Loss: 1.5199\n",
            "Epoch: 220/500, Training Loss: 1.4711, Validation Loss: 1.5175\n",
            "Epoch: 221/500, Training Loss: 1.4696, Validation Loss: 1.5212\n",
            "Epoch: 222/500, Training Loss: 1.4701, Validation Loss: 1.5222\n",
            "Epoch: 223/500, Training Loss: 1.4729, Validation Loss: 1.5205\n",
            "Epoch: 224/500, Training Loss: 1.4698, Validation Loss: 1.5195\n",
            "Epoch: 225/500, Training Loss: 1.4736, Validation Loss: 1.5199\n",
            "Epoch: 226/500, Training Loss: 1.4713, Validation Loss: 1.5200\n",
            "Epoch: 227/500, Training Loss: 1.4699, Validation Loss: 1.5216\n",
            "Epoch: 228/500, Training Loss: 1.4697, Validation Loss: 1.5169\n",
            "Epoch: 229/500, Training Loss: 1.4689, Validation Loss: 1.5166\n",
            "Epoch: 230/500, Training Loss: 1.4701, Validation Loss: 1.5184\n",
            "Epoch: 231/500, Training Loss: 1.4702, Validation Loss: 1.5194\n",
            "Epoch: 232/500, Training Loss: 1.4671, Validation Loss: 1.5193\n",
            "Epoch: 233/500, Training Loss: 1.4680, Validation Loss: 1.5156\n",
            "Epoch: 234/500, Training Loss: 1.4698, Validation Loss: 1.5177\n",
            "Epoch: 235/500, Training Loss: 1.4731, Validation Loss: 1.5173\n",
            "Epoch: 236/500, Training Loss: 1.4698, Validation Loss: 1.5165\n",
            "Epoch: 237/500, Training Loss: 1.4699, Validation Loss: 1.5167\n",
            "Epoch: 238/500, Training Loss: 1.4700, Validation Loss: 1.5182\n",
            "Epoch: 239/500, Training Loss: 1.4711, Validation Loss: 1.5189\n",
            "Epoch: 240/500, Training Loss: 1.4687, Validation Loss: 1.5177\n",
            "Epoch: 241/500, Training Loss: 1.4687, Validation Loss: 1.5160\n",
            "Epoch: 242/500, Training Loss: 1.4690, Validation Loss: 1.5182\n",
            "Epoch: 243/500, Training Loss: 1.4672, Validation Loss: 1.5205\n",
            "Epoch: 244/500, Training Loss: 1.4688, Validation Loss: 1.5186\n",
            "Epoch: 245/500, Training Loss: 1.4705, Validation Loss: 1.5161\n",
            "Epoch: 246/500, Training Loss: 1.4705, Validation Loss: 1.5161\n",
            "Epoch: 247/500, Training Loss: 1.4686, Validation Loss: 1.5160\n",
            "Epoch: 248/500, Training Loss: 1.4670, Validation Loss: 1.5142\n",
            "Epoch: 249/500, Training Loss: 1.4719, Validation Loss: 1.5163\n",
            "Epoch: 250/500, Training Loss: 1.4690, Validation Loss: 1.5168\n",
            "Epoch: 251/500, Training Loss: 1.4690, Validation Loss: 1.5152\n",
            "Epoch: 252/500, Training Loss: 1.4691, Validation Loss: 1.5198\n",
            "Epoch: 253/500, Training Loss: 1.4654, Validation Loss: 1.5168\n",
            "Epoch: 254/500, Training Loss: 1.4703, Validation Loss: 1.5157\n",
            "Epoch: 255/500, Training Loss: 1.4675, Validation Loss: 1.5123\n",
            "Epoch: 256/500, Training Loss: 1.4676, Validation Loss: 1.5141\n",
            "Epoch: 257/500, Training Loss: 1.4671, Validation Loss: 1.5152\n",
            "Epoch: 258/500, Training Loss: 1.4688, Validation Loss: 1.5178\n",
            "Epoch: 259/500, Training Loss: 1.4673, Validation Loss: 1.5166\n",
            "Epoch: 260/500, Training Loss: 1.4707, Validation Loss: 1.5151\n",
            "Epoch: 261/500, Training Loss: 1.4697, Validation Loss: 1.5158\n",
            "Epoch: 262/500, Training Loss: 1.4662, Validation Loss: 1.5179\n",
            "Epoch: 263/500, Training Loss: 1.4658, Validation Loss: 1.5126\n",
            "Epoch: 264/500, Training Loss: 1.4669, Validation Loss: 1.5140\n",
            "Epoch: 265/500, Training Loss: 1.4673, Validation Loss: 1.5185\n",
            "Epoch: 266/500, Training Loss: 1.4705, Validation Loss: 1.5172\n",
            "Epoch: 267/500, Training Loss: 1.4686, Validation Loss: 1.5168\n",
            "Epoch: 268/500, Training Loss: 1.4672, Validation Loss: 1.5133\n",
            "Epoch: 269/500, Training Loss: 1.4690, Validation Loss: 1.5164\n",
            "Epoch: 270/500, Training Loss: 1.4681, Validation Loss: 1.5147\n",
            "Epoch: 271/500, Training Loss: 1.4676, Validation Loss: 1.5152\n",
            "Epoch: 272/500, Training Loss: 1.4681, Validation Loss: 1.5158\n",
            "Epoch: 273/500, Training Loss: 1.4676, Validation Loss: 1.5175\n",
            "Epoch: 274/500, Training Loss: 1.4667, Validation Loss: 1.5169\n",
            "Epoch: 275/500, Training Loss: 1.4670, Validation Loss: 1.5117\n",
            "Epoch: 276/500, Training Loss: 1.4669, Validation Loss: 1.5120\n",
            "Epoch: 277/500, Training Loss: 1.4668, Validation Loss: 1.5163\n",
            "Epoch: 278/500, Training Loss: 1.4677, Validation Loss: 1.5137\n",
            "Epoch: 279/500, Training Loss: 1.4668, Validation Loss: 1.5124\n",
            "Epoch: 280/500, Training Loss: 1.4670, Validation Loss: 1.5126\n",
            "Epoch: 281/500, Training Loss: 1.4659, Validation Loss: 1.5150\n",
            "Epoch: 282/500, Training Loss: 1.4667, Validation Loss: 1.5138\n",
            "Epoch: 283/500, Training Loss: 1.4673, Validation Loss: 1.5144\n",
            "Epoch: 284/500, Training Loss: 1.4669, Validation Loss: 1.5163\n",
            "Epoch: 285/500, Training Loss: 1.4689, Validation Loss: 1.5136\n",
            "Epoch: 286/500, Training Loss: 1.4663, Validation Loss: 1.5116\n",
            "Epoch: 287/500, Training Loss: 1.4684, Validation Loss: 1.5133\n",
            "Epoch: 288/500, Training Loss: 1.4654, Validation Loss: 1.5146\n",
            "Epoch: 289/500, Training Loss: 1.4698, Validation Loss: 1.5153\n",
            "Epoch: 290/500, Training Loss: 1.4702, Validation Loss: 1.5143\n",
            "Epoch: 291/500, Training Loss: 1.4665, Validation Loss: 1.5147\n",
            "Epoch: 292/500, Training Loss: 1.4676, Validation Loss: 1.5114\n",
            "Epoch: 293/500, Training Loss: 1.4688, Validation Loss: 1.5178\n",
            "Epoch: 294/500, Training Loss: 1.4682, Validation Loss: 1.5118\n",
            "Epoch: 295/500, Training Loss: 1.4687, Validation Loss: 1.5085\n",
            "Epoch: 296/500, Training Loss: 1.4651, Validation Loss: 1.5125\n",
            "Epoch: 297/500, Training Loss: 1.4680, Validation Loss: 1.5132\n",
            "Epoch: 298/500, Training Loss: 1.4671, Validation Loss: 1.5109\n",
            "Epoch: 299/500, Training Loss: 1.4687, Validation Loss: 1.5133\n",
            "Epoch: 300/500, Training Loss: 1.4698, Validation Loss: 1.5123\n",
            "Epoch: 301/500, Training Loss: 1.4658, Validation Loss: 1.5138\n",
            "Epoch: 302/500, Training Loss: 1.4665, Validation Loss: 1.5140\n",
            "Epoch: 303/500, Training Loss: 1.4654, Validation Loss: 1.5175\n",
            "Epoch: 304/500, Training Loss: 1.4655, Validation Loss: 1.5125\n",
            "Epoch: 305/500, Training Loss: 1.4693, Validation Loss: 1.5119\n",
            "Epoch: 306/500, Training Loss: 1.4663, Validation Loss: 1.5111\n",
            "Epoch: 307/500, Training Loss: 1.4668, Validation Loss: 1.5126\n",
            "Epoch: 308/500, Training Loss: 1.4663, Validation Loss: 1.5124\n",
            "Epoch: 309/500, Training Loss: 1.4662, Validation Loss: 1.5135\n",
            "Epoch: 310/500, Training Loss: 1.4677, Validation Loss: 1.5098\n",
            "Epoch: 311/500, Training Loss: 1.4653, Validation Loss: 1.5095\n",
            "Epoch: 312/500, Training Loss: 1.4690, Validation Loss: 1.5101\n",
            "Epoch: 313/500, Training Loss: 1.4685, Validation Loss: 1.5134\n",
            "Epoch: 314/500, Training Loss: 1.4666, Validation Loss: 1.5103\n",
            "Epoch: 315/500, Training Loss: 1.4669, Validation Loss: 1.5141\n",
            "Epoch: 316/500, Training Loss: 1.4661, Validation Loss: 1.5115\n",
            "Epoch: 317/500, Training Loss: 1.4664, Validation Loss: 1.5151\n",
            "Epoch: 318/500, Training Loss: 1.4676, Validation Loss: 1.5100\n",
            "Epoch: 319/500, Training Loss: 1.4694, Validation Loss: 1.5125\n",
            "Epoch: 320/500, Training Loss: 1.4678, Validation Loss: 1.5150\n",
            "Epoch: 321/500, Training Loss: 1.4658, Validation Loss: 1.5127\n",
            "Epoch: 322/500, Training Loss: 1.4647, Validation Loss: 1.5137\n",
            "Epoch: 323/500, Training Loss: 1.4687, Validation Loss: 1.5095\n",
            "Epoch: 324/500, Training Loss: 1.4653, Validation Loss: 1.5118\n",
            "Epoch: 325/500, Training Loss: 1.4663, Validation Loss: 1.5115\n",
            "Epoch: 326/500, Training Loss: 1.4662, Validation Loss: 1.5093\n",
            "Epoch: 327/500, Training Loss: 1.4663, Validation Loss: 1.5084\n",
            "Epoch: 328/500, Training Loss: 1.4665, Validation Loss: 1.5116\n",
            "Epoch: 329/500, Training Loss: 1.4665, Validation Loss: 1.5142\n",
            "Epoch: 330/500, Training Loss: 1.4681, Validation Loss: 1.5098\n",
            "Epoch: 331/500, Training Loss: 1.4654, Validation Loss: 1.5126\n",
            "Epoch: 332/500, Training Loss: 1.4650, Validation Loss: 1.5131\n",
            "Epoch: 333/500, Training Loss: 1.4659, Validation Loss: 1.5094\n",
            "Epoch: 334/500, Training Loss: 1.4657, Validation Loss: 1.5130\n",
            "Epoch: 335/500, Training Loss: 1.4662, Validation Loss: 1.5076\n",
            "Epoch: 336/500, Training Loss: 1.4659, Validation Loss: 1.5109\n",
            "Epoch: 337/500, Training Loss: 1.4671, Validation Loss: 1.5092\n",
            "Epoch: 338/500, Training Loss: 1.4659, Validation Loss: 1.5094\n",
            "Epoch: 339/500, Training Loss: 1.4657, Validation Loss: 1.5085\n",
            "Epoch: 340/500, Training Loss: 1.4667, Validation Loss: 1.5133\n",
            "Epoch: 341/500, Training Loss: 1.4669, Validation Loss: 1.5126\n",
            "Epoch: 342/500, Training Loss: 1.4680, Validation Loss: 1.5084\n",
            "Epoch: 343/500, Training Loss: 1.4658, Validation Loss: 1.5124\n",
            "Epoch: 344/500, Training Loss: 1.4678, Validation Loss: 1.5124\n",
            "Epoch: 345/500, Training Loss: 1.4672, Validation Loss: 1.5101\n",
            "Epoch: 346/500, Training Loss: 1.4681, Validation Loss: 1.5121\n",
            "Epoch: 347/500, Training Loss: 1.4664, Validation Loss: 1.5125\n",
            "Epoch: 348/500, Training Loss: 1.4674, Validation Loss: 1.5146\n",
            "Epoch: 349/500, Training Loss: 1.4665, Validation Loss: 1.5126\n",
            "Epoch: 350/500, Training Loss: 1.4671, Validation Loss: 1.5103\n",
            "Epoch: 351/500, Training Loss: 1.4657, Validation Loss: 1.5081\n",
            "Epoch: 352/500, Training Loss: 1.4694, Validation Loss: 1.5127\n",
            "Epoch: 353/500, Training Loss: 1.4652, Validation Loss: 1.5090\n",
            "Epoch: 354/500, Training Loss: 1.4661, Validation Loss: 1.5079\n",
            "Epoch: 355/500, Training Loss: 1.4648, Validation Loss: 1.5136\n",
            "Epoch: 356/500, Training Loss: 1.4662, Validation Loss: 1.5097\n",
            "Epoch: 357/500, Training Loss: 1.4650, Validation Loss: 1.5073\n",
            "Epoch: 358/500, Training Loss: 1.4660, Validation Loss: 1.5100\n",
            "Epoch: 359/500, Training Loss: 1.4659, Validation Loss: 1.5098\n",
            "Epoch: 360/500, Training Loss: 1.4666, Validation Loss: 1.5083\n",
            "Epoch: 361/500, Training Loss: 1.4664, Validation Loss: 1.5106\n",
            "Epoch: 362/500, Training Loss: 1.4654, Validation Loss: 1.5105\n",
            "Epoch: 363/500, Training Loss: 1.4671, Validation Loss: 1.5111\n",
            "Epoch: 364/500, Training Loss: 1.4664, Validation Loss: 1.5122\n",
            "Epoch: 365/500, Training Loss: 1.4689, Validation Loss: 1.5082\n",
            "Epoch: 366/500, Training Loss: 1.4662, Validation Loss: 1.5051\n",
            "Epoch: 367/500, Training Loss: 1.4673, Validation Loss: 1.5098\n",
            "Epoch: 368/500, Training Loss: 1.4676, Validation Loss: 1.5122\n",
            "Epoch: 369/500, Training Loss: 1.4649, Validation Loss: 1.5115\n",
            "Epoch: 370/500, Training Loss: 1.4650, Validation Loss: 1.5114\n",
            "Epoch: 371/500, Training Loss: 1.4657, Validation Loss: 1.5094\n",
            "Epoch: 372/500, Training Loss: 1.4674, Validation Loss: 1.5093\n",
            "Epoch: 373/500, Training Loss: 1.4651, Validation Loss: 1.5125\n",
            "Epoch: 374/500, Training Loss: 1.4652, Validation Loss: 1.5091\n",
            "Epoch: 375/500, Training Loss: 1.4654, Validation Loss: 1.5100\n",
            "Epoch: 376/500, Training Loss: 1.4666, Validation Loss: 1.5094\n",
            "Epoch: 377/500, Training Loss: 1.4679, Validation Loss: 1.5093\n",
            "Epoch: 378/500, Training Loss: 1.4657, Validation Loss: 1.5125\n",
            "Epoch: 379/500, Training Loss: 1.4653, Validation Loss: 1.5116\n",
            "Epoch: 380/500, Training Loss: 1.4660, Validation Loss: 1.5118\n",
            "Epoch: 381/500, Training Loss: 1.4647, Validation Loss: 1.5077\n",
            "Epoch: 382/500, Training Loss: 1.4662, Validation Loss: 1.5089\n",
            "Epoch: 383/500, Training Loss: 1.4659, Validation Loss: 1.5125\n",
            "Epoch: 384/500, Training Loss: 1.4666, Validation Loss: 1.5083\n",
            "Epoch: 385/500, Training Loss: 1.4664, Validation Loss: 1.5124\n",
            "Epoch: 386/500, Training Loss: 1.4638, Validation Loss: 1.5139\n",
            "Epoch: 387/500, Training Loss: 1.4658, Validation Loss: 1.5077\n",
            "Epoch: 388/500, Training Loss: 1.4649, Validation Loss: 1.5113\n",
            "Epoch: 389/500, Training Loss: 1.4658, Validation Loss: 1.5050\n",
            "Epoch: 390/500, Training Loss: 1.4645, Validation Loss: 1.5093\n",
            "Epoch: 391/500, Training Loss: 1.4654, Validation Loss: 1.5074\n",
            "Epoch: 392/500, Training Loss: 1.4665, Validation Loss: 1.5094\n",
            "Epoch: 393/500, Training Loss: 1.4646, Validation Loss: 1.5113\n",
            "Epoch: 394/500, Training Loss: 1.4654, Validation Loss: 1.5099\n",
            "Epoch: 395/500, Training Loss: 1.4663, Validation Loss: 1.5090\n",
            "Epoch: 396/500, Training Loss: 1.4645, Validation Loss: 1.5079\n",
            "Epoch: 397/500, Training Loss: 1.4647, Validation Loss: 1.5108\n",
            "Epoch: 398/500, Training Loss: 1.4663, Validation Loss: 1.5092\n",
            "Epoch: 399/500, Training Loss: 1.4647, Validation Loss: 1.5127\n",
            "Epoch: 400/500, Training Loss: 1.4648, Validation Loss: 1.5053\n",
            "Epoch: 401/500, Training Loss: 1.4653, Validation Loss: 1.5063\n",
            "Epoch: 402/500, Training Loss: 1.4654, Validation Loss: 1.5117\n",
            "Epoch: 403/500, Training Loss: 1.4665, Validation Loss: 1.5114\n",
            "Epoch: 404/500, Training Loss: 1.4653, Validation Loss: 1.5121\n",
            "Epoch: 405/500, Training Loss: 1.4650, Validation Loss: 1.5096\n",
            "Epoch: 406/500, Training Loss: 1.4645, Validation Loss: 1.5104\n",
            "Epoch: 407/500, Training Loss: 1.4651, Validation Loss: 1.5097\n",
            "Epoch: 408/500, Training Loss: 1.4658, Validation Loss: 1.5110\n",
            "Epoch: 409/500, Training Loss: 1.4662, Validation Loss: 1.5064\n",
            "Epoch: 410/500, Training Loss: 1.4657, Validation Loss: 1.5087\n",
            "Epoch: 411/500, Training Loss: 1.4650, Validation Loss: 1.5098\n",
            "Epoch: 412/500, Training Loss: 1.4654, Validation Loss: 1.5088\n",
            "Epoch: 413/500, Training Loss: 1.4661, Validation Loss: 1.5062\n",
            "Epoch: 414/500, Training Loss: 1.4656, Validation Loss: 1.5078\n",
            "Epoch: 415/500, Training Loss: 1.4654, Validation Loss: 1.5058\n",
            "Epoch: 416/500, Training Loss: 1.4645, Validation Loss: 1.5113\n",
            "Epoch: 417/500, Training Loss: 1.4653, Validation Loss: 1.5059\n",
            "Epoch: 418/500, Training Loss: 1.4649, Validation Loss: 1.5076\n",
            "Epoch: 419/500, Training Loss: 1.4654, Validation Loss: 1.5100\n",
            "Epoch: 420/500, Training Loss: 1.4653, Validation Loss: 1.5079\n",
            "Epoch: 421/500, Training Loss: 1.4652, Validation Loss: 1.5083\n",
            "Epoch: 422/500, Training Loss: 1.4655, Validation Loss: 1.5076\n",
            "Epoch: 423/500, Training Loss: 1.4645, Validation Loss: 1.5097\n",
            "Epoch: 424/500, Training Loss: 1.4671, Validation Loss: 1.5099\n",
            "Epoch: 425/500, Training Loss: 1.4658, Validation Loss: 1.5073\n",
            "Epoch: 426/500, Training Loss: 1.4649, Validation Loss: 1.5059\n",
            "Epoch: 427/500, Training Loss: 1.4649, Validation Loss: 1.5083\n",
            "Epoch: 428/500, Training Loss: 1.4648, Validation Loss: 1.5087\n",
            "Epoch: 429/500, Training Loss: 1.4645, Validation Loss: 1.5059\n",
            "Epoch: 430/500, Training Loss: 1.4662, Validation Loss: 1.5103\n",
            "Epoch: 431/500, Training Loss: 1.4649, Validation Loss: 1.5122\n",
            "Epoch: 432/500, Training Loss: 1.4643, Validation Loss: 1.5111\n",
            "Epoch: 433/500, Training Loss: 1.4644, Validation Loss: 1.5091\n",
            "Epoch: 434/500, Training Loss: 1.4651, Validation Loss: 1.5071\n",
            "Epoch: 435/500, Training Loss: 1.4649, Validation Loss: 1.5083\n",
            "Epoch: 436/500, Training Loss: 1.4665, Validation Loss: 1.5067\n",
            "Epoch: 437/500, Training Loss: 1.4663, Validation Loss: 1.5057\n",
            "Epoch: 438/500, Training Loss: 1.4665, Validation Loss: 1.5061\n",
            "Epoch: 439/500, Training Loss: 1.4656, Validation Loss: 1.5077\n",
            "Epoch: 440/500, Training Loss: 1.4657, Validation Loss: 1.5049\n",
            "Epoch: 441/500, Training Loss: 1.4650, Validation Loss: 1.5103\n",
            "Epoch: 442/500, Training Loss: 1.4656, Validation Loss: 1.5055\n",
            "Epoch: 443/500, Training Loss: 1.4654, Validation Loss: 1.5092\n",
            "Epoch: 444/500, Training Loss: 1.4650, Validation Loss: 1.5020\n",
            "Epoch: 445/500, Training Loss: 1.4646, Validation Loss: 1.5070\n",
            "Epoch: 446/500, Training Loss: 1.4654, Validation Loss: 1.5104\n",
            "Epoch: 447/500, Training Loss: 1.4651, Validation Loss: 1.5076\n",
            "Epoch: 448/500, Training Loss: 1.4646, Validation Loss: 1.5064\n",
            "Epoch: 449/500, Training Loss: 1.4654, Validation Loss: 1.5059\n",
            "Epoch: 450/500, Training Loss: 1.4667, Validation Loss: 1.5055\n",
            "Epoch: 451/500, Training Loss: 1.4655, Validation Loss: 1.5076\n",
            "Epoch: 452/500, Training Loss: 1.4648, Validation Loss: 1.5073\n",
            "Epoch: 453/500, Training Loss: 1.4654, Validation Loss: 1.5084\n",
            "Epoch: 454/500, Training Loss: 1.4645, Validation Loss: 1.5097\n",
            "Epoch: 455/500, Training Loss: 1.4652, Validation Loss: 1.5038\n",
            "Epoch: 456/500, Training Loss: 1.4651, Validation Loss: 1.5076\n",
            "Epoch: 457/500, Training Loss: 1.4667, Validation Loss: 1.5041\n",
            "Epoch: 458/500, Training Loss: 1.4656, Validation Loss: 1.5061\n",
            "Epoch: 459/500, Training Loss: 1.4670, Validation Loss: 1.5079\n",
            "Epoch: 460/500, Training Loss: 1.4648, Validation Loss: 1.5095\n",
            "Epoch: 461/500, Training Loss: 1.4664, Validation Loss: 1.5083\n",
            "Epoch: 462/500, Training Loss: 1.4650, Validation Loss: 1.5082\n",
            "Epoch: 463/500, Training Loss: 1.4652, Validation Loss: 1.5089\n",
            "Epoch: 464/500, Training Loss: 1.4656, Validation Loss: 1.5070\n",
            "Epoch: 465/500, Training Loss: 1.4657, Validation Loss: 1.5054\n",
            "Epoch: 466/500, Training Loss: 1.4644, Validation Loss: 1.5100\n",
            "Epoch: 467/500, Training Loss: 1.4650, Validation Loss: 1.5041\n",
            "Epoch: 468/500, Training Loss: 1.4671, Validation Loss: 1.5090\n",
            "Epoch: 469/500, Training Loss: 1.4646, Validation Loss: 1.5100\n",
            "Epoch: 470/500, Training Loss: 1.4651, Validation Loss: 1.5056\n",
            "Epoch: 471/500, Training Loss: 1.4654, Validation Loss: 1.5099\n",
            "Epoch: 472/500, Training Loss: 1.4652, Validation Loss: 1.5078\n",
            "Epoch: 473/500, Training Loss: 1.4660, Validation Loss: 1.5090\n",
            "Epoch: 474/500, Training Loss: 1.4643, Validation Loss: 1.5072\n",
            "Epoch: 475/500, Training Loss: 1.4643, Validation Loss: 1.5088\n",
            "Epoch: 476/500, Training Loss: 1.4657, Validation Loss: 1.5099\n",
            "Epoch: 477/500, Training Loss: 1.4671, Validation Loss: 1.5113\n",
            "Epoch: 478/500, Training Loss: 1.4647, Validation Loss: 1.5064\n",
            "Epoch: 479/500, Training Loss: 1.4646, Validation Loss: 1.5055\n",
            "Epoch: 480/500, Training Loss: 1.4658, Validation Loss: 1.5079\n",
            "Epoch: 481/500, Training Loss: 1.4642, Validation Loss: 1.5075\n",
            "Epoch: 482/500, Training Loss: 1.4643, Validation Loss: 1.5083\n",
            "Epoch: 483/500, Training Loss: 1.4672, Validation Loss: 1.5048\n",
            "Epoch: 484/500, Training Loss: 1.4644, Validation Loss: 1.5068\n",
            "Epoch: 485/500, Training Loss: 1.4645, Validation Loss: 1.5086\n",
            "Epoch: 486/500, Training Loss: 1.4649, Validation Loss: 1.5060\n",
            "Epoch: 487/500, Training Loss: 1.4648, Validation Loss: 1.5040\n",
            "Epoch: 488/500, Training Loss: 1.4659, Validation Loss: 1.5099\n",
            "Epoch: 489/500, Training Loss: 1.4646, Validation Loss: 1.5096\n",
            "Epoch: 490/500, Training Loss: 1.4662, Validation Loss: 1.5060\n",
            "Epoch: 491/500, Training Loss: 1.4656, Validation Loss: 1.5087\n",
            "Epoch: 492/500, Training Loss: 1.4650, Validation Loss: 1.5121\n",
            "Epoch: 493/500, Training Loss: 1.4656, Validation Loss: 1.5072\n",
            "Epoch: 494/500, Training Loss: 1.4652, Validation Loss: 1.5094\n",
            "Epoch: 495/500, Training Loss: 1.4647, Validation Loss: 1.5075\n",
            "Epoch: 496/500, Training Loss: 1.4645, Validation Loss: 1.5062\n",
            "Epoch: 497/500, Training Loss: 1.4655, Validation Loss: 1.5086\n",
            "Epoch: 498/500, Training Loss: 1.4647, Validation Loss: 1.5077\n",
            "Epoch: 499/500, Training Loss: 1.4644, Validation Loss: 1.5068\n",
            "Epoch: 500/500, Training Loss: 1.4642, Validation Loss: 1.5064\n"
          ]
        }
      ],
      "source": [
        "X_train_split, X_val, y_train_split, y_val = train_test_split(X_train, y_train, test_size=0.1, random_state=42)\n",
        "\n",
        "loss_history = []\n",
        "val_loss_history = []\n",
        "ep_history = []\n",
        "\n",
        "steps = len(X_train_split)\n",
        "for e in range(epochs):\n",
        "    for i in range(0, steps, batch_size):\n",
        "        x_batch, y_batch = X_train_split[i:i+batch_size], y_train_split[i:i+batch_size]\n",
        "\n",
        "        # Forward pass\n",
        "        output = model(x_batch)\n",
        "        loss = criteria(output, y_batch)\n",
        "\n",
        "        # Backward pass and optimization\n",
        "        optimizer.zero_grad()\n",
        "        loss.backward()\n",
        "        optimizer.step()\n",
        "\n",
        "    # Calculate training loss\n",
        "    loss_history.append(loss.item())\n",
        "    ep_history.append(e)\n",
        "\n",
        "    # Validation step\n",
        "    with torch.no_grad():\n",
        "        val_output = model(X_val)\n",
        "        val_loss = criteria(val_output, y_val)\n",
        "        val_loss_history.append(val_loss.item())\n",
        "        print(f\"Epoch: {e+1}/{epochs}, Training Loss: {loss.item():.4f}, Validation Loss: {val_loss.item():.4f}\")\n"
      ]
    },
    {
      "cell_type": "code",
      "execution_count": 12,
      "metadata": {
        "id": "yy_2CiOdaA6R"
      },
      "outputs": [
        {
          "data": {
            "image/png": "[encoded data removed]",
            "text/plain": [
              "<Figure size 640x480 with 1 Axes>"
            ]
          },
          "metadata": {},
          "output_type": "display_data"
        }
      ],
      "source": [
        "fg = plt.figure()\n",
        "plt.plot(ep_history, loss_history)\n",
        "plt.plot(ep_history, val_loss_history)\n",
        "plt.xlabel(\"Epoch\")\n",
        "plt.ylabel(\"Loss\")\n",
        "plt.title(\"Loss vs Epoch and Loss vs Validation Epoch\")\n",
        "plt.grid()\n",
        "plt.show()"
      ]
    },
    {
      "cell_type": "code",
      "execution_count": 13,
      "metadata": {
        "id": "n0EWvoJDaA6R"
      },
      "outputs": [],
      "source": [
        "test = pd.read_csv('mnist_test.csv', header=None)"
      ]
    },
    {
      "cell_type": "code",
      "execution_count": 14,
      "metadata": {
        "id": "-aX3VIYaaA6S"
      },
      "outputs": [
        {
          "data": {
            "text/plain": [
              "(10000, 785)"
            ]
          },
          "execution_count": 14,
          "metadata": {},
          "output_type": "execute_result"
        }
      ],
      "source": [
        "test.shape"
      ]
    },
    {
      "cell_type": "code",
      "execution_count": 15,
      "metadata": {
        "id": "BNf0DN7faA6S"
      },
      "outputs": [],
      "source": [
        "X_test, y_test = test.values[:, 1:], test.values[:, 0]\n",
        "y_test = F.one_hot(torch.tensor(y_test)).to(dtype=torch.float32, device=device)\n",
        "X_test = torch.tensor(X_test, dtype=torch.float32, device=device) / 255"
      ]
    },
    {
      "cell_type": "code",
      "execution_count": 16,
      "metadata": {
        "id": "DzGvTApdaA6S"
      },
      "outputs": [
        {
          "name": "stdout",
          "output_type": "stream",
          "text": [
            "Accuracy: 96.05%\n"
          ]
        }
      ],
      "source": [
        "# Test\n",
        "with torch.no_grad():\n",
        "    correct = 0\n",
        "    total = 0\n",
        "    for i in range(len(X_test)):\n",
        "        output = model(X_test[i])\n",
        "        _, predicted = torch.max(output, 0)\n",
        "        _, actual = torch.max(y_test[i], 0)\n",
        "        total += 1\n",
        "        correct += (predicted == actual).item()\n",
        "    print(f\"Accuracy: {correct/total*100:.2f}%\")"
      ]
    }
  ],
  "metadata": {
    "colab": {
      "provenance": []
    },
    "kernelspec": {
      "display_name": ".env",
      "language": "python",
      "name": "python3"
    },
    "language_info": {
      "codemirror_mode": {
        "name": "ipython",
        "version": 3
      },
      "file_extension": ".py",
      "mimetype": "text/x-python",
      "name": "python",
      "nbconvert_exporter": "python",
      "pygments_lexer": "ipython3",
      "version": "3.12.1"
    }
  },
  "nbformat": 4,
  "nbformat_minor": 0
}
